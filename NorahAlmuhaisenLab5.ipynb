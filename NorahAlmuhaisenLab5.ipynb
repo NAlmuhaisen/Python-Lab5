{
 "cells": [
  {
   "cell_type": "raw",
   "id": "702fd077",
   "metadata": {},
   "source": [
    "Given the following list : [5, 4, 17, 19, 30, 2, 7, 10, 45]\n",
    "\n",
    "Q1: Write a Python program to sum all the items in the list.\n",
    "Q2: Write a Python program to get the largest number from the list.\n",
    "Q3: Use list comprehension, create a new list from the above list containing only even numbers.\n",
    "Q4: Use list slicing to get a new list from the previous list starting from the start to the 5th element in the list."
   ]
  },
  {
   "cell_type": "code",
   "execution_count": 1,
   "id": "b861fbd3",
   "metadata": {},
   "outputs": [
    {
     "name": "stdout",
     "output_type": "stream",
     "text": [
      "139\n"
     ]
    }
   ],
   "source": [
    "list1=[5, 4, 17, 19, 30, 2, 7, 10, 45]\n",
    "sum=0\n",
    "for x in list1 : # using loop to sum all the items in the list\n",
    "    sum+=x\n",
    "    \n",
    "print(sum)"
   ]
  },
  {
   "cell_type": "code",
   "execution_count": 2,
   "id": "267274d2",
   "metadata": {},
   "outputs": [],
   "source": [
    "largest=max(list1) # To get the largest number from the list\n"
   ]
  },
  {
   "cell_type": "code",
   "execution_count": 3,
   "id": "56059730",
   "metadata": {},
   "outputs": [],
   "source": [
    "even_list =[]"
   ]
  },
  {
   "cell_type": "code",
   "execution_count": 4,
   "id": "a2a80f56",
   "metadata": {},
   "outputs": [
    {
     "data": {
      "text/plain": [
       "[4, 30, 2, 10]"
      ]
     },
     "execution_count": 4,
     "metadata": {},
     "output_type": "execute_result"
    }
   ],
   "source": [
    "[even_list.append(x) for x in list1 if x%2 ==0] # To create a new list from the above list containing only even numbers(Using list comprehension)\n",
    "even_list"
   ]
  },
  {
   "cell_type": "code",
   "execution_count": 5,
   "id": "57367f3d",
   "metadata": {},
   "outputs": [
    {
     "data": {
      "text/plain": [
       "[5, 4, 17, 19, 30]"
      ]
     },
     "execution_count": 5,
     "metadata": {},
     "output_type": "execute_result"
    }
   ],
   "source": [
    "sliced_list=list1[:5] #Using list slicing to get a new list from the previous list starting from the start to the 5th element in the list\n",
    "sliced_list"
   ]
  }
 ],
 "metadata": {
  "kernelspec": {
   "display_name": "Python 3 (ipykernel)",
   "language": "python",
   "name": "python3"
  },
  "language_info": {
   "codemirror_mode": {
    "name": "ipython",
    "version": 3
   },
   "file_extension": ".py",
   "mimetype": "text/x-python",
   "name": "python",
   "nbconvert_exporter": "python",
   "pygments_lexer": "ipython3",
   "version": "3.10.9"
  }
 },
 "nbformat": 4,
 "nbformat_minor": 5
}
